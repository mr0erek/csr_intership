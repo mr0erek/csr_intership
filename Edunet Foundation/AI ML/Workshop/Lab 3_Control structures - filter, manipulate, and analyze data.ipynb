{
 "cells": [
  {
   "cell_type": "markdown",
   "id": "0e407d50",
   "metadata": {},
   "source": [
    "# To implement control structures with a climate dataset using Python to filter, manipulate, and analyze the data."
   ]
  },
  {
   "cell_type": "markdown",
   "id": "fbacaf35",
   "metadata": {},
   "source": [
    "Objectives:\n",
    "\n",
    "1. Apply Conditional Statements: Use if-else to filter climate data based on conditions like temperature or CO₂ levels.\n",
    "\n",
    "2. Use Loops for Data: Implement loops to process and analyze climate data, such as calculating averages or trends.\n",
    "\n",
    "3. Filter and Manipulate Data: Use filter() and list comprehensions to filter and modify climate datasets.\n",
    "\n",
    "4. Analyze Data with Control Structures: Identify patterns, such as the city with the highest carbon footprint, using control structures.\n",
    "\n"
   ]
  },
  {
   "cell_type": "markdown",
   "id": "a4a32dd8",
   "metadata": {},
   "source": [
    "## 1: Apply Conditional Statements to Filter High Temperature Cities"
   ]
  },
  {
   "cell_type": "code",
   "execution_count": 1,
   "id": "b7c734b0",
   "metadata": {},
   "outputs": [
    {
     "name": "stdout",
     "output_type": "stream",
     "text": [
      "Cities with high temperatures (> 26°C):\n",
      "City B - 30°C\n",
      "City E - 28°C\n"
     ]
    }
   ],
   "source": [
    "# Sample climate dataset\n",
    "climate_data = [\n",
    "    {\"city\": \"City A\", \"temperature\": 25, \"carbon_footprint\": 500},\n",
    "    {\"city\": \"City B\", \"temperature\": 30, \"carbon_footprint\": 350},\n",
    "    {\"city\": \"City C\", \"temperature\": 22, \"carbon_footprint\": 600},\n",
    "    {\"city\": \"City D\", \"temperature\": 15, \"carbon_footprint\": 200},\n",
    "    {\"city\": \"City E\", \"temperature\": 28, \"carbon_footprint\": 450},\n",
    "]\n",
    "\n",
    "# High temperature threshold (cities above this temperature will be selected)\n",
    "high_temp_threshold = 26\n",
    "\n",
    "# Use a list comprehension to filter cities with temperatures higher than the threshold\n",
    "high_temp_cities = [city for city in climate_data if city[\"temperature\"] > high_temp_threshold]\n",
    "\n",
    "# Print the result\n",
    "print(\"Cities with high temperatures (> 26°C):\")\n",
    "for city in high_temp_cities:\n",
    "    print(f\"{city['city']} - {city['temperature']}°C\")\n"
   ]
  },
  {
   "cell_type": "markdown",
   "id": "c5f2aea6",
   "metadata": {},
   "source": [
    "The above code filters cities where the temperature is above 26°C. We use a list comprehension and an if statement to check each city's temperature."
   ]
  },
  {
   "cell_type": "markdown",
   "id": "32e0f048",
   "metadata": {},
   "source": [
    "## 2: Use Loops to Calculate Average Carbon Footprint"
   ]
  },
  {
   "cell_type": "code",
   "execution_count": 2,
   "id": "942565aa",
   "metadata": {},
   "outputs": [
    {
     "name": "stdout",
     "output_type": "stream",
     "text": [
      "\n",
      "Average Carbon Footprint: 420.00 kg CO2\n"
     ]
    }
   ],
   "source": [
    "# We will continue using the same dataset as above\n",
    "# Initialize a variable to store the total carbon footprint\n",
    "total_carbon = 0\n",
    "\n",
    "# Use a for loop to go through each city in the dataset and add their carbon footprint\n",
    "for city in climate_data:\n",
    "    total_carbon += city[\"carbon_footprint\"]  # Add each city's carbon footprint to the total\n",
    "\n",
    "# Calculate the average carbon footprint\n",
    "average_carbon_footprint = total_carbon / len(climate_data)\n",
    "\n",
    "# Print the average result\n",
    "print(f\"\\nAverage Carbon Footprint: {average_carbon_footprint:.2f} kg CO2\")\n"
   ]
  },
  {
   "cell_type": "markdown",
   "id": "c05b1e2a",
   "metadata": {},
   "source": [
    "The above python code calculates the average carbon footprint by summing all the footprints and dividing by the number of cities. A for loop helps us add up the values."
   ]
  },
  {
   "cell_type": "markdown",
   "id": "38ff347d",
   "metadata": {},
   "source": [
    "## 3: Filter and Manipulate Data to Find Sustainable Cities"
   ]
  },
  {
   "cell_type": "code",
   "execution_count": 3,
   "id": "85afb826",
   "metadata": {},
   "outputs": [
    {
     "name": "stdout",
     "output_type": "stream",
     "text": [
      "\n",
      "Sustainable Cities (carbon footprint < 400 kg CO2):\n",
      "City B - 350 kg CO2\n",
      "City D - 200 kg CO2\n"
     ]
    }
   ],
   "source": [
    "# Set a sustainability threshold (e.g., 400 kg CO2)\n",
    "sustainability_threshold = 400\n",
    "\n",
    "# Use a lambda function with filter() to get cities with a carbon footprint below the threshold\n",
    "sustainable_cities = list(filter(lambda city: city[\"carbon_footprint\"] < sustainability_threshold, climate_data))\n",
    "\n",
    "# Print the result\n",
    "print(\"\\nSustainable Cities (carbon footprint < 400 kg CO2):\")\n",
    "for city in sustainable_cities:\n",
    "    print(f\"{city['city']} - {city['carbon_footprint']} kg CO2\")\n"
   ]
  },
  {
   "cell_type": "markdown",
   "id": "48c142ba",
   "metadata": {},
   "source": [
    "The above python code filters cities with a carbon footprint below 400 kg CO₂ using a lambda function and the filter() method. Only cities that meet the condition are shown."
   ]
  },
  {
   "cell_type": "markdown",
   "id": "37c97cbc",
   "metadata": {},
   "source": [
    "## 4: Analyze Data to Find the City with the Highest Carbon Footprint"
   ]
  },
  {
   "cell_type": "code",
   "execution_count": 4,
   "id": "4a9e60c4",
   "metadata": {},
   "outputs": [
    {
     "name": "stdout",
     "output_type": "stream",
     "text": [
      "\n",
      "City with the highest carbon footprint:\n",
      "City C - 600 kg CO2\n"
     ]
    }
   ],
   "source": [
    "# Use max() to find the city with the highest carbon footprint\n",
    "highest_footprint_city = max(climate_data, key=lambda city: city[\"carbon_footprint\"])\n",
    "\n",
    "# Print the result\n",
    "print(f\"\\nCity with the highest carbon footprint:\")\n",
    "print(f\"{highest_footprint_city['city']} - {highest_footprint_city['carbon_footprint']} kg CO2\")\n"
   ]
  },
  {
   "cell_type": "markdown",
   "id": "37e8e21b",
   "metadata": {},
   "source": [
    " The above python code finds the city with the highest carbon footprint using the max() function, which compares each city's footprint."
   ]
  },
  {
   "cell_type": "markdown",
   "id": "f13eb423",
   "metadata": {},
   "source": [
    "#### Conclusion:\n",
    "\n",
    "The above codes are in Python that addresses the objectives as laid below, using control structures to filter, manipulate, and analyze a climate dataset\n",
    "\n",
    "Objective 1: Filters cities based on temperature using conditional logic.\n",
    "\n",
    "Objective 2: Uses a loop to calculate the average carbon footprint.\n",
    "\n",
    "Objective 3: Filters cities below a carbon footprint threshold using lambda.\n",
    "\n",
    "Objective 4: Finds the city with the highest carbon footprint using max().\n"
   ]
  }
 ],
 "metadata": {
  "kernelspec": {
   "display_name": "Python 3 (ipykernel)",
   "language": "python",
   "name": "python3"
  },
  "language_info": {
   "codemirror_mode": {
    "name": "ipython",
    "version": 3
   },
   "file_extension": ".py",
   "mimetype": "text/x-python",
   "name": "python",
   "nbconvert_exporter": "python",
   "pygments_lexer": "ipython3",
   "version": "3.9.13"
  }
 },
 "nbformat": 4,
 "nbformat_minor": 5
}
